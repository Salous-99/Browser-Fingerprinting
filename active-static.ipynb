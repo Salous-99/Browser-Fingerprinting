{
 "cells": [
  {
   "cell_type": "code",
   "execution_count": null,
   "id": "97c39a0c",
   "metadata": {},
   "outputs": [],
   "source": [
    "from dotenv import load_dotenv\n",
    "from ua_parser import user_agent_parser\n",
    "import pickle\n",
    "import os\n",
    "import json\n",
    "from datetime import datetime\n",
    "import sqlite3\n",
    "import pandas as pd\n",
    "from statistics import mean \n",
    "from fuzzywuzzy import fuzz\n",
    "import math \n",
    "import operator\n",
    "import csv\n",
    "import matplotlib.pyplot as plt\n",
    "import matplotlib\n",
    "from IPython import display\n",
    "from base64 import b64decode\n",
    "from PIL import Image\n",
    "import io\n",
    "import numpy as np\n",
    "import base64\n",
    "import random\n",
    "from sklearn.metrics import jaccard_similarity_score\n",
    "from difflib import SequenceMatcher\n",
    "import time\n",
    "import datetime\n",
    "import uuid \n",
    "from pyjarowinkler import distance\n",
    "%matplotlib inline\n",
    "load_dotenv(override=True)"
   ]
  },
  {
   "cell_type": "code",
   "execution_count": null,
   "id": "2feebc26",
   "metadata": {},
   "outputs": [],
   "source": [
    "import sqlite3\n",
    "\n",
    "# saved locally, no connection over network \n",
    "conn = sqlite3.connect('../../bfp-pets-2020.sqlite')\n",
    "cursor = conn.cursor()\n",
    "print(\"Opened database successfully\")\n",
    "from IPython.core.pylabtools import figsize"
   ]
  }
 ],
 "metadata": {
  "kernelspec": {
   "display_name": "Python 3 (ipykernel)",
   "language": "python",
   "name": "python3"
  },
  "language_info": {
   "codemirror_mode": {
    "name": "ipython",
    "version": 3
   },
   "file_extension": ".py",
   "mimetype": "text/x-python",
   "name": "python",
   "nbconvert_exporter": "python",
   "pygments_lexer": "ipython3",
   "version": "3.8.10"
  }
 },
 "nbformat": 4,
 "nbformat_minor": 5
}
